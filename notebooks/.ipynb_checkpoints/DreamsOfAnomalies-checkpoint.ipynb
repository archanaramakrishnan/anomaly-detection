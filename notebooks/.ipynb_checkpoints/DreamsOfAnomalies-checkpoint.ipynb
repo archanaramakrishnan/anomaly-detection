{
 "cells": [
  {
   "cell_type": "markdown",
   "metadata": {},
   "source": [
    "## Goal\n",
    "The objective of this project is to build one or more anomaly detection models to determine the anomalies using the other columns as features"
   ]
  },
  {
   "cell_type": "markdown",
   "metadata": {},
   "source": [
    "## Load Dataset\n",
    "First I import the required libraries"
   ]
  },
  {
   "cell_type": "code",
   "execution_count": 23,
   "metadata": {},
   "outputs": [],
   "source": [
    "import pandas as pd #load the data into panda data frames\n",
    "import warnings #ignore warnings\n",
    "warnings.filterwarnings('ignore')"
   ]
  },
  {
   "cell_type": "markdown",
   "metadata": {},
   "source": [
    "The dataset I have chosen is the Rouge Agent Key Hold dataset from [The Numenta Anomaly Benchmark (NAB)](https://github.com/numenta/NAB). It times the key holds for several users of a computer, where the anomalies represent a change in the user. Data are ordered, timestamped, single-valued metrics."
   ]
  },
  {
   "cell_type": "code",
   "execution_count": 24,
   "metadata": {},
   "outputs": [
    {
     "data": {
      "text/html": [
       "<div>\n",
       "<style scoped>\n",
       "    .dataframe tbody tr th:only-of-type {\n",
       "        vertical-align: middle;\n",
       "    }\n",
       "\n",
       "    .dataframe tbody tr th {\n",
       "        vertical-align: top;\n",
       "    }\n",
       "\n",
       "    .dataframe thead th {\n",
       "        text-align: right;\n",
       "    }\n",
       "</style>\n",
       "<table border=\"1\" class=\"dataframe\">\n",
       "  <thead>\n",
       "    <tr style=\"text-align: right;\">\n",
       "      <th></th>\n",
       "      <th>timestamp</th>\n",
       "      <th>value</th>\n",
       "    </tr>\n",
       "  </thead>\n",
       "  <tbody>\n",
       "    <tr>\n",
       "      <th>0</th>\n",
       "      <td>2014-07-06 20:10:00</td>\n",
       "      <td>0.064535</td>\n",
       "    </tr>\n",
       "    <tr>\n",
       "      <th>1</th>\n",
       "      <td>2014-07-06 20:15:00</td>\n",
       "      <td>0.064295</td>\n",
       "    </tr>\n",
       "    <tr>\n",
       "      <th>2</th>\n",
       "      <td>2014-07-06 20:20:00</td>\n",
       "      <td>0.063880</td>\n",
       "    </tr>\n",
       "    <tr>\n",
       "      <th>3</th>\n",
       "      <td>2014-07-06 20:25:00</td>\n",
       "      <td>0.065692</td>\n",
       "    </tr>\n",
       "    <tr>\n",
       "      <th>4</th>\n",
       "      <td>2014-07-06 20:35:00</td>\n",
       "      <td>0.056301</td>\n",
       "    </tr>\n",
       "  </tbody>\n",
       "</table>\n",
       "</div>"
      ],
      "text/plain": [
       "             timestamp     value\n",
       "0  2014-07-06 20:10:00  0.064535\n",
       "1  2014-07-06 20:15:00  0.064295\n",
       "2  2014-07-06 20:20:00  0.063880\n",
       "3  2014-07-06 20:25:00  0.065692\n",
       "4  2014-07-06 20:35:00  0.056301"
      ]
     },
     "execution_count": 24,
     "metadata": {},
     "output_type": "execute_result"
    }
   ],
   "source": [
    "key_hold_df = pd.read_csv('../data/rogue_agent_key_hold.csv')\n",
    "key_hold_df.head()"
   ]
  },
  {
   "cell_type": "markdown",
   "metadata": {},
   "source": [
    "## Feature Engineering\n",
    "The data seems to have NaN or odd looking values to clean. We are simply given the timestamp and values columns, which should be good to work with."
   ]
  },
  {
   "cell_type": "code",
   "execution_count": 25,
   "metadata": {},
   "outputs": [
    {
     "data": {
      "text/plain": [
       "timestamp    0\n",
       "value        0\n",
       "dtype: int64"
      ]
     },
     "execution_count": 25,
     "metadata": {},
     "output_type": "execute_result"
    }
   ],
   "source": [
    "key_hold_df.isna().sum()"
   ]
  },
  {
   "cell_type": "markdown",
   "metadata": {},
   "source": [
    "I use the timestamp data to create a year, month, date and time column. This will provide more features to feed into the model and will help build visualizations on different scales."
   ]
  },
  {
   "cell_type": "code",
   "execution_count": 26,
   "metadata": {
    "scrolled": true
   },
   "outputs": [
    {
     "data": {
      "text/html": [
       "<div>\n",
       "<style scoped>\n",
       "    .dataframe tbody tr th:only-of-type {\n",
       "        vertical-align: middle;\n",
       "    }\n",
       "\n",
       "    .dataframe tbody tr th {\n",
       "        vertical-align: top;\n",
       "    }\n",
       "\n",
       "    .dataframe thead th {\n",
       "        text-align: right;\n",
       "    }\n",
       "</style>\n",
       "<table border=\"1\" class=\"dataframe\">\n",
       "  <thead>\n",
       "    <tr style=\"text-align: right;\">\n",
       "      <th></th>\n",
       "      <th>timestamp</th>\n",
       "      <th>value</th>\n",
       "      <th>Year</th>\n",
       "      <th>Month</th>\n",
       "      <th>Date</th>\n",
       "      <th>Time</th>\n",
       "    </tr>\n",
       "  </thead>\n",
       "  <tbody>\n",
       "    <tr>\n",
       "      <th>0</th>\n",
       "      <td>2014-07-06 20:10:00</td>\n",
       "      <td>0.064535</td>\n",
       "      <td>2014</td>\n",
       "      <td>07</td>\n",
       "      <td>06</td>\n",
       "      <td>20:10:00</td>\n",
       "    </tr>\n",
       "    <tr>\n",
       "      <th>1</th>\n",
       "      <td>2014-07-06 20:15:00</td>\n",
       "      <td>0.064295</td>\n",
       "      <td>2014</td>\n",
       "      <td>07</td>\n",
       "      <td>06</td>\n",
       "      <td>20:15:00</td>\n",
       "    </tr>\n",
       "    <tr>\n",
       "      <th>2</th>\n",
       "      <td>2014-07-06 20:20:00</td>\n",
       "      <td>0.063880</td>\n",
       "      <td>2014</td>\n",
       "      <td>07</td>\n",
       "      <td>06</td>\n",
       "      <td>20:20:00</td>\n",
       "    </tr>\n",
       "    <tr>\n",
       "      <th>3</th>\n",
       "      <td>2014-07-06 20:25:00</td>\n",
       "      <td>0.065692</td>\n",
       "      <td>2014</td>\n",
       "      <td>07</td>\n",
       "      <td>06</td>\n",
       "      <td>20:25:00</td>\n",
       "    </tr>\n",
       "    <tr>\n",
       "      <th>4</th>\n",
       "      <td>2014-07-06 20:35:00</td>\n",
       "      <td>0.056301</td>\n",
       "      <td>2014</td>\n",
       "      <td>07</td>\n",
       "      <td>06</td>\n",
       "      <td>20:35:00</td>\n",
       "    </tr>\n",
       "  </tbody>\n",
       "</table>\n",
       "</div>"
      ],
      "text/plain": [
       "             timestamp     value  Year Month Date      Time\n",
       "0  2014-07-06 20:10:00  0.064535  2014    07   06  20:10:00\n",
       "1  2014-07-06 20:15:00  0.064295  2014    07   06  20:15:00\n",
       "2  2014-07-06 20:20:00  0.063880  2014    07   06  20:20:00\n",
       "3  2014-07-06 20:25:00  0.065692  2014    07   06  20:25:00\n",
       "4  2014-07-06 20:35:00  0.056301  2014    07   06  20:35:00"
      ]
     },
     "execution_count": 26,
     "metadata": {},
     "output_type": "execute_result"
    }
   ],
   "source": [
    "key_hold_df[['Year','Month', 'Date']] = key_hold_df.timestamp.str.split(\"-\",expand=True)\n",
    "key_hold_df['Date'], key_hold_df['Time'] = key_hold_df['Date'].str.split(' ', 1).str\n",
    "key_hold_df.head()"
   ]
  },
  {
   "cell_type": "markdown",
   "metadata": {},
   "source": [
    "And I type cast all those columns into integers to use them for visualizations."
   ]
  },
  {
   "cell_type": "code",
   "execution_count": 32,
   "metadata": {},
   "outputs": [],
   "source": [
    "date_cols = ['Year', 'Month', 'Date']\n",
    "for col in date_cols:\n",
    "    key_hold_df[col] = key_hold_df[col].astype(int)"
   ]
  },
  {
   "cell_type": "markdown",
   "metadata": {},
   "source": [
    "## Visualizations"
   ]
  },
  {
   "cell_type": "markdown",
   "metadata": {},
   "source": [
    "## Anomaly Detection Models"
   ]
  }
 ],
 "metadata": {
  "kernelspec": {
   "display_name": "Python 3",
   "language": "python",
   "name": "python3"
  },
  "language_info": {
   "codemirror_mode": {
    "name": "ipython",
    "version": 3
   },
   "file_extension": ".py",
   "mimetype": "text/x-python",
   "name": "python",
   "nbconvert_exporter": "python",
   "pygments_lexer": "ipython3",
   "version": "3.8.3"
  }
 },
 "nbformat": 4,
 "nbformat_minor": 4
}
